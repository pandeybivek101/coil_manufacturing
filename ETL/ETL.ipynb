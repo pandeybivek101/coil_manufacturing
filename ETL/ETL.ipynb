{
 "cells": [
  {
   "cell_type": "markdown",
   "metadata": {
    "application/vnd.databricks.v1+cell": {
     "cellMetadata": {},
     "inputWidgets": {},
     "nuid": "0a0b2dd4-2e18-43cb-a17d-dfa179ff97c8",
     "showTitle": false,
     "tableResultSettingsMap": {},
     "title": ""
    }
   },
   "source": [
    "####Getting secret values stored in Azure Key Vault."
   ]
  },
  {
   "cell_type": "code",
   "execution_count": 0,
   "metadata": {
    "application/vnd.databricks.v1+cell": {
     "cellMetadata": {
      "byteLimit": 2048000,
      "rowLimit": 10000
     },
     "inputWidgets": {},
     "nuid": "b16097b6-5e2a-405a-a5c1-169bbafc2bce",
     "showTitle": false,
     "tableResultSettingsMap": {},
     "title": ""
    }
   },
   "outputs": [],
   "source": [
    "#Getting data from scope, the rootpath,volumePath are stored in Azure key Vault and secrets is a scope name on the workplace.\n",
    "rootPath = dbutils.secrets.get('secrets', 'rootPath')\n",
    "volumePath = dbutils.secrets.get('secrets', 'volumePath')"
   ]
  },
  {
   "cell_type": "code",
   "execution_count": 0,
   "metadata": {
    "application/vnd.databricks.v1+cell": {
     "cellMetadata": {
      "byteLimit": 2048000,
      "rowLimit": 10000
     },
     "inputWidgets": {},
     "nuid": "8f059a1a-0185-4584-8858-364b276338a0",
     "showTitle": false,
     "tableResultSettingsMap": {},
     "title": ""
    }
   },
   "outputs": [],
   "source": [
    "dbutils.fs.ls(volumePath)"
   ]
  },
  {
   "cell_type": "markdown",
   "metadata": {
    "application/vnd.databricks.v1+cell": {
     "cellMetadata": {},
     "inputWidgets": {},
     "nuid": "d1f8779c-c0bf-4da0-81c3-a40fed713e39",
     "showTitle": false,
     "tableResultSettingsMap": {},
     "title": ""
    }
   },
   "source": [
    "####Creating the bronze delta table."
   ]
  },
  {
   "cell_type": "markdown",
   "metadata": {
    "application/vnd.databricks.v1+cell": {
     "cellMetadata": {},
     "inputWidgets": {},
     "nuid": "b1a46d12-9a5c-4795-8f71-87006a3d8bd1",
     "showTitle": false,
     "tableResultSettingsMap": {},
     "title": ""
    }
   },
   "source": [
    "######The raw data file is in CSV format, we cannot directly create a delta table from the file formats that do not have well-defined schema. So, we can create a temp view and use that temp view to create coil_raw using CTAS. Now the table generated will be the delta table."
   ]
  },
  {
   "cell_type": "code",
   "execution_count": 0,
   "metadata": {
    "application/vnd.databricks.v1+cell": {
     "cellMetadata": {
      "byteLimit": 2048000,
      "rowLimit": 10000
     },
     "inputWidgets": {},
     "nuid": "89958a4d-47bd-4607-b1bf-f76ec00f453f",
     "showTitle": false,
     "tableResultSettingsMap": {},
     "title": ""
    }
   },
   "outputs": [],
   "source": [
    "#Creating a temp view for the raw data\n",
    "\n",
    "rawFilePath = f\"{volumePath}/data.csv\"\n",
    "\n",
    "temp_view_query = f\"\"\"\n",
    "CREATE OR REPLACE TEMP VIEW raw_data_temp\n",
    "  (\n",
    "    coil_id INT,\n",
    "    weight FLOAT,\n",
    "    thickness FLOAT,\n",
    "    material_type STRING,\n",
    "    production_date DATE,\n",
    "    defects INT,\n",
    "    line_speed FLOAT\n",
    "  )\n",
    "USING CSV\n",
    "OPTIONS (\n",
    "  path = '{rawFilePath}',\n",
    "  header = \"true\",\n",
    "  delimiter = \",\"\n",
    ");\n",
    "\"\"\"\n",
    "\n",
    "spark.sql(temp_view_query)"
   ]
  },
  {
   "cell_type": "code",
   "execution_count": 0,
   "metadata": {
    "application/vnd.databricks.v1+cell": {
     "cellMetadata": {
      "byteLimit": 2048000,
      "implicitDf": true,
      "rowLimit": 10000
     },
     "inputWidgets": {},
     "nuid": "d6b4b423-d1ea-4839-9bf7-03d917cc48e4",
     "showTitle": false,
     "tableResultSettingsMap": {},
     "title": ""
    }
   },
   "outputs": [],
   "source": [
    "%sql\n",
    "SELECT \n",
    "    * \n",
    "FROM \n",
    "    raw_data_temp;\n"
   ]
  },
  {
   "cell_type": "code",
   "execution_count": 0,
   "metadata": {
    "application/vnd.databricks.v1+cell": {
     "cellMetadata": {
      "byteLimit": 2048000,
      "rowLimit": 10000
     },
     "inputWidgets": {},
     "nuid": "a1529603-5e29-4a37-8573-026b9ec637f3",
     "showTitle": false,
     "tableResultSettingsMap": {},
     "title": ""
    }
   },
   "outputs": [],
   "source": [
    "#Creating the bronze delta table named coil_raw from temp view raw_data_temp using CTAS\n",
    "\n",
    "bronzePath = f\"{rootPath}/table/coil_raw\"\n",
    "\n",
    "sql_ext_bronze_table_creation_query = f\"\"\"\n",
    "CREATE TABLE IF NOT EXISTS coil_manufacturing_catalog.manufacturing.coil_raw\n",
    "    COMMENT \"The raw delta table. This is the bronze table of medallion architecture and the lowest layer among the data layers.\"\n",
    "    LOCATION '{bronzePath}'\n",
    "AS\n",
    "SELECT \n",
    "    *\n",
    "FROM raw_data_temp\n",
    "\"\"\"\n",
    "\n",
    "spark.sql(sql_ext_bronze_table_creation_query)\n"
   ]
  },
  {
   "cell_type": "code",
   "execution_count": 0,
   "metadata": {
    "application/vnd.databricks.v1+cell": {
     "cellMetadata": {
      "byteLimit": 2048000,
      "implicitDf": true,
      "rowLimit": 10000
     },
     "inputWidgets": {},
     "nuid": "80cda238-aad6-40fa-98f5-71613332598f",
     "showTitle": false,
     "tableResultSettingsMap": {},
     "title": ""
    }
   },
   "outputs": [],
   "source": [
    "%sql\n",
    "SELECT \n",
    "  * \n",
    "FROM \n",
    "  coil_manufacturing_catalog.manufacturing.coil_raw"
   ]
  },
  {
   "cell_type": "markdown",
   "metadata": {
    "application/vnd.databricks.v1+cell": {
     "cellMetadata": {},
     "inputWidgets": {},
     "nuid": "a457b71d-b2d1-433d-8b94-3d51e1fe169e",
     "showTitle": false,
     "tableResultSettingsMap": {},
     "title": ""
    }
   },
   "source": [
    "######The CTAS will automatically infer schema from the source. The schema has been defined on the temp view, so the coil_raw should adopt that schema. \n",
    "######Ensuring the schema of coil_raw table.\n",
    "* coil_id --> int\n",
    "* weight --> float\n",
    "* thickness --> float\n",
    "* material_type --> string\n",
    "* production_date --> date\n",
    "* defects --> int\n",
    "* line_speed --> float\n"
   ]
  },
  {
   "cell_type": "code",
   "execution_count": 0,
   "metadata": {
    "application/vnd.databricks.v1+cell": {
     "cellMetadata": {
      "byteLimit": 2048000,
      "implicitDf": true,
      "rowLimit": 10000
     },
     "inputWidgets": {},
     "nuid": "2a5dbf45-0d51-4ff8-a9df-1dd5c3dd71e4",
     "showTitle": false,
     "tableResultSettingsMap": {},
     "title": ""
    }
   },
   "outputs": [],
   "source": [
    "%sql\n",
    "DESCRIBE EXTENDED coil_manufacturing_catalog.manufacturing.coil_raw\n"
   ]
  },
  {
   "cell_type": "markdown",
   "metadata": {
    "application/vnd.databricks.v1+cell": {
     "cellMetadata": {},
     "inputWidgets": {},
     "nuid": "97d5c5c6-d119-4810-97c4-6ff7fed06d07",
     "showTitle": false,
     "tableResultSettingsMap": {},
     "title": ""
    }
   },
   "source": [
    "####Creating the silver table."
   ]
  },
  {
   "cell_type": "markdown",
   "metadata": {
    "application/vnd.databricks.v1+cell": {
     "cellMetadata": {},
     "inputWidgets": {},
     "nuid": "af85136a-f4f7-4231-8a37-f199f00c9824",
     "showTitle": false,
     "tableResultSettingsMap": {},
     "title": ""
    }
   },
   "source": [
    "######Creating the silver table by cleansing and transforming the coil_raw table.\n",
    "######Removing all records that do not satisfy the below condition:\n",
    "* defects should be less than or equal to 5.\n",
    "* weight should be greater or equal to 1000 kg\n",
    "* thickness should be greater or equal to 1 mm."
   ]
  },
  {
   "cell_type": "code",
   "execution_count": 0,
   "metadata": {
    "application/vnd.databricks.v1+cell": {
     "cellMetadata": {
      "byteLimit": 2048000,
      "rowLimit": 10000
     },
     "inputWidgets": {},
     "nuid": "697369f3-42cf-45cf-b428-94754dea8657",
     "showTitle": false,
     "tableResultSettingsMap": {},
     "title": ""
    }
   },
   "outputs": [],
   "source": [
    "silverPath = f\"{rootPath}/table/coil_curated\"\n",
    "\n",
    "sql_ext_silver_table_creation_query = f\"\"\"\n",
    "CREATE TABLE IF NOT EXISTS coil_manufacturing_catalog.manufacturing.coil_curated\n",
    "    \n",
    "    COMMENT \"The curated delta table. This is the silver table of medallion architecture and the middle layer among the data layers. The invalid data are filtered out including, for instance, thicknesses less than 1mm, records containing more than 5 defects.\"\n",
    "    \n",
    "    LOCATION '{silverPath}'\n",
    "AS\n",
    "SELECT \n",
    "    * \n",
    "FROM \n",
    "    coil_manufacturing_catalog.manufacturing.coil_raw\n",
    "WHERE \n",
    "    weight >= 1000 OR thickness >= 1 OR defects <= 5\n",
    "\"\"\"\n",
    "\n",
    "spark.sql(sql_ext_silver_table_creation_query) "
   ]
  },
  {
   "cell_type": "code",
   "execution_count": 0,
   "metadata": {
    "application/vnd.databricks.v1+cell": {
     "cellMetadata": {
      "byteLimit": 2048000,
      "implicitDf": true,
      "rowLimit": 10000
     },
     "inputWidgets": {},
     "nuid": "f5bb017c-41de-4504-8ee5-0c6fc4d0a5f1",
     "showTitle": false,
     "tableResultSettingsMap": {},
     "title": ""
    }
   },
   "outputs": [],
   "source": [
    "%sql\n",
    "SELECT \n",
    "    * \n",
    "FROM \n",
    "    coil_manufacturing_catalog.manufacturing.coil_curated"
   ]
  },
  {
   "cell_type": "markdown",
   "metadata": {
    "application/vnd.databricks.v1+cell": {
     "cellMetadata": {},
     "inputWidgets": {},
     "nuid": "a07dcd54-1714-497a-8cb9-b16ed4b78f09",
     "showTitle": false,
     "tableResultSettingsMap": {},
     "title": ""
    }
   },
   "source": [
    "###Creating the gold table coil_summary from the aggregated summary data.\n"
   ]
  },
  {
   "cell_type": "code",
   "execution_count": 0,
   "metadata": {
    "application/vnd.databricks.v1+cell": {
     "cellMetadata": {
      "byteLimit": 2048000,
      "rowLimit": 10000
     },
     "inputWidgets": {},
     "nuid": "e22b67fe-8053-4ca0-8a5f-f929832c59be",
     "showTitle": false,
     "tableResultSettingsMap": {},
     "title": ""
    }
   },
   "outputs": [],
   "source": [
    "goldPath = f\"{rootPath}/table/coil_summary\"\n",
    "\n",
    "sql_ext_gold_table_creation_query = f\"\"\"\n",
    "CREATE TABLE IF NOT EXISTS coil_manufacturing_catalog.manufacturing.coil_summary\n",
    "\n",
    "COMMENT \"The aggregated delta table. This is the gold table of medallion architecture and the top layer among the data layers. The records are aggregated\n",
    "based on material_type and production_date columns.\"\n",
    "\n",
    "LOCATION '{goldPath}'\n",
    "\n",
    "SELECT \n",
    "    material_type,\n",
    "    production_date,\n",
    "    CAST(COUNT(coil_id) AS INT) AS total_coils,\n",
    "    CAST(AVG(weight) AS FLOAT) AS avg_weight,\n",
    "    CAST(AVG(thickness) AS FLOAT) AS avg_thickness,\n",
    "    CAST(MAX(line_speed) AS FLOAT) AS max_line_speed,\n",
    "    CAST(SUM(defects) AS INT) AS total_defects,\n",
    "    CAST((total_defects/total_coils)*100 AS FLOAT) AS defect_rate\n",
    "FROM \n",
    "    coil_manufacturing_catalog.manufacturing.coil_curated\n",
    "GROUP BY \n",
    "    material_type, production_date\n",
    "\"\"\"\n",
    "\n",
    "spark.sql(sql_ext_gold_table_creation_query) "
   ]
  },
  {
   "cell_type": "markdown",
   "metadata": {
    "application/vnd.databricks.v1+cell": {
     "cellMetadata": {},
     "inputWidgets": {},
     "nuid": "c7d2bf6c-4bc0-424f-982f-f438dcd78f0e",
     "showTitle": false,
     "tableResultSettingsMap": {},
     "title": ""
    }
   },
   "source": [
    "######Adding the column descriptions.\n"
   ]
  },
  {
   "cell_type": "code",
   "execution_count": 0,
   "metadata": {
    "application/vnd.databricks.v1+cell": {
     "cellMetadata": {
      "byteLimit": 2048000,
      "implicitDf": true,
      "rowLimit": 10000
     },
     "inputWidgets": {},
     "nuid": "e8d3d742-1283-4ad6-8fe5-b55f1385ef9c",
     "showTitle": false,
     "tableResultSettingsMap": {},
     "title": ""
    }
   },
   "outputs": [],
   "source": [
    "%sql\n",
    "COMMENT ON COLUMN coil_manufacturing_catalog.manufacturing.coil_summary.material_type IS 'Type of material (e.g, Steel and Aluminum).';\n",
    "COMMENT ON COLUMN coil_manufacturing_catalog.manufacturing.coil_summary.production_date IS 'The date the coil was produced.';\n",
    "COMMENT ON COLUMN coil_manufacturing_catalog.manufacturing.coil_summary.total_coils IS 'Total number of coils.';\n",
    "COMMENT ON COLUMN coil_manufacturing_catalog.manufacturing.coil_summary.avg_weight IS 'Average weight of coils (kG).';\n",
    "COMMENT ON COLUMN coil_manufacturing_catalog.manufacturing.coil_summary.avg_thickness IS 'Average thickness of coils (MM).';\n",
    "COMMENT ON COLUMN coil_manufacturing_catalog.manufacturing.coil_summary.max_line_speed IS 'Maximum production line speed.';\n",
    "COMMENT ON COLUMN coil_manufacturing_catalog.manufacturing.coil_summary.total_defects IS 'Total number of defects in all coils.';\n",
    "COMMENT ON COLUMN coil_manufacturing_catalog.manufacturing.coil_summary.defect_rate IS 'Ratio of total defects to total coils, as a percentage.';\n"
   ]
  },
  {
   "cell_type": "markdown",
   "metadata": {
    "application/vnd.databricks.v1+cell": {
     "cellMetadata": {},
     "inputWidgets": {},
     "nuid": "af29fc9b-10b4-4e5f-9e2c-0d85ac89e7a9",
     "showTitle": false,
     "tableResultSettingsMap": {},
     "title": ""
    }
   },
   "source": [
    "######Ensuring the schema of coil_summary table.\n",
    "* material_type --> string\n",
    "* production_date --> date\n",
    "* total_coils --> int\n",
    "* avg_weight --> float\n",
    "* avg_thickness --> float\n",
    "* max_line_speed --> float\n",
    "* total_defects --> int\n",
    "* defect_rate --> float"
   ]
  },
  {
   "cell_type": "code",
   "execution_count": 0,
   "metadata": {
    "application/vnd.databricks.v1+cell": {
     "cellMetadata": {
      "byteLimit": 2048000,
      "implicitDf": true,
      "rowLimit": 10000
     },
     "inputWidgets": {},
     "nuid": "e0bb76f0-d453-4254-9fbe-6e3fd8caa829",
     "showTitle": false,
     "tableResultSettingsMap": {},
     "title": ""
    }
   },
   "outputs": [],
   "source": [
    "%sql\n",
    "DESCRIBE EXTENDED coil_manufacturing_catalog.manufacturing.coil_summary;"
   ]
  },
  {
   "cell_type": "markdown",
   "metadata": {
    "application/vnd.databricks.v1+cell": {
     "cellMetadata": {},
     "inputWidgets": {},
     "nuid": "29d9a06e-4856-456f-83cc-0e877abe2518",
     "showTitle": false,
     "tableResultSettingsMap": {},
     "title": ""
    }
   },
   "source": [
    "######The Final output of coil_summary table."
   ]
  },
  {
   "cell_type": "code",
   "execution_count": 0,
   "metadata": {
    "application/vnd.databricks.v1+cell": {
     "cellMetadata": {
      "byteLimit": 2048000,
      "implicitDf": true,
      "rowLimit": 10000
     },
     "inputWidgets": {},
     "nuid": "f1803281-1c61-4dec-a29b-c2e12f8c2887",
     "showTitle": false,
     "tableResultSettingsMap": {},
     "title": ""
    }
   },
   "outputs": [],
   "source": [
    "%sql\n",
    "SELECT \n",
    "    * \n",
    "FROM  \n",
    "    coil_manufacturing_catalog.manufacturing.coil_summary\n",
    "ORDER BY \n",
    "    material_type DESC;"
   ]
  },
  {
   "cell_type": "code",
   "execution_count": 0,
   "metadata": {
    "application/vnd.databricks.v1+cell": {
     "cellMetadata": {},
     "inputWidgets": {},
     "nuid": "a0b8d972-991b-4455-bb4f-e06217b948ce",
     "showTitle": false,
     "tableResultSettingsMap": {},
     "title": ""
    }
   },
   "outputs": [],
   "source": []
  }
 ],
 "metadata": {
  "application/vnd.databricks.v1+notebook": {
   "computePreferences": null,
   "dashboards": [],
   "environmentMetadata": {
    "base_environment": "",
    "client": "1"
   },
   "language": "python",
   "notebookMetadata": {
    "mostRecentlyExecutedCommandWithImplicitDF": {
     "commandId": 5727016621292498,
     "dataframes": [
      "_sqldf"
     ]
    },
    "pythonIndentUnit": 4
   },
   "notebookName": "ETL",
   "widgets": {}
  },
  "language_info": {
   "name": "python"
  }
 },
 "nbformat": 4,
 "nbformat_minor": 0
}
