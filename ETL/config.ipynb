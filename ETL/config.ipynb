{
 "cells": [
  {
   "cell_type": "code",
   "execution_count": 0,
   "metadata": {
    "application/vnd.databricks.v1+cell": {
     "cellMetadata": {
      "byteLimit": 2048000,
      "rowLimit": 10000
     },
     "inputWidgets": {},
     "nuid": "06506003-2eb4-4048-a107-232575d1aed2",
     "showTitle": false,
     "tableResultSettingsMap": {},
     "title": ""
    }
   },
   "outputs": [],
   "source": [
    "#Getting data from scope, the rootpath is stored in Azure key Vault and secrets is a scope name on the workplace.\n",
    "rootPath = dbutils.secrets.get('secrets', 'rootPath')"
   ]
  },
  {
   "cell_type": "markdown",
   "metadata": {
    "application/vnd.databricks.v1+cell": {
     "cellMetadata": {},
     "inputWidgets": {},
     "nuid": "41e233bf-0e8a-43d0-80b0-fedcddb1710f",
     "showTitle": false,
     "tableResultSettingsMap": {},
     "title": ""
    }
   },
   "source": [
    "###Generating the external location"
   ]
  },
  {
   "cell_type": "code",
   "execution_count": 0,
   "metadata": {
    "application/vnd.databricks.v1+cell": {
     "cellMetadata": {
      "byteLimit": 2048000,
      "rowLimit": 10000
     },
     "inputWidgets": {},
     "nuid": "8b67052a-5c59-4d83-96cb-b42e53c2cf36",
     "showTitle": false,
     "tableResultSettingsMap": {},
     "title": ""
    }
   },
   "outputs": [],
   "source": [
    "#This will be used as an all-purpose external location, to store metadata of all tables in the catalog. Also it will be utilized for the volume too.\n",
    "\n",
    "sql_ext_location_creation_query = f\"\"\"\n",
    "CREATE EXTERNAL LOCATION IF NOT EXISTS base_external_location\n",
    "  URL '{rootPath}'\n",
    "  WITH (STORAGE CREDENTIAL datalake_connection_credentials)\n",
    "  COMMENT 'The external location to store all external tables metadata. Also It will be used to point external volume';\n",
    "\"\"\"\n",
    "\n",
    "spark.sql(sql_ext_location_creation_query)\n"
   ]
  },
  {
   "cell_type": "markdown",
   "metadata": {
    "application/vnd.databricks.v1+cell": {
     "cellMetadata": {},
     "inputWidgets": {},
     "nuid": "b8fe5b78-3932-45b7-a302-df0ee723f516",
     "showTitle": false,
     "tableResultSettingsMap": {},
     "title": ""
    }
   },
   "source": [
    "####Setting up the Catalog"
   ]
  },
  {
   "cell_type": "code",
   "execution_count": 0,
   "metadata": {
    "application/vnd.databricks.v1+cell": {
     "cellMetadata": {
      "byteLimit": 2048000,
      "implicitDf": true,
      "rowLimit": 10000
     },
     "inputWidgets": {},
     "nuid": "bfe4b210-7e5b-451e-9f05-678ebfc4bb9a",
     "showTitle": false,
     "tableResultSettingsMap": {},
     "title": ""
    }
   },
   "outputs": [],
   "source": [
    "%sql\n",
    "CREATE CATALOG IF NOT EXISTS coil_manufacturing_catalog\n",
    "  COMMENT \"The catalog maintains the coal manufacturing-related objects.\""
   ]
  },
  {
   "cell_type": "markdown",
   "metadata": {
    "application/vnd.databricks.v1+cell": {
     "cellMetadata": {},
     "inputWidgets": {},
     "nuid": "ba5c6791-566d-40e6-a348-4e383fddf7e0",
     "showTitle": false,
     "tableResultSettingsMap": {},
     "title": ""
    }
   },
   "source": [
    "####Setting up the schema"
   ]
  },
  {
   "cell_type": "code",
   "execution_count": 0,
   "metadata": {
    "application/vnd.databricks.v1+cell": {
     "cellMetadata": {
      "byteLimit": 2048000,
      "implicitDf": true,
      "rowLimit": 10000
     },
     "inputWidgets": {},
     "nuid": "bfc0dc0e-933d-46fd-89a1-4f75eaed2ba0",
     "showTitle": false,
     "tableResultSettingsMap": {},
     "title": ""
    }
   },
   "outputs": [],
   "source": [
    "%sql\n",
    "CREATE SCHEMA IF NOT EXISTS coil_manufacturing_catalog.manufacturing\n",
    "    COMMENT \"The schema holds manufacturing tables of different levels and layers\""
   ]
  },
  {
   "cell_type": "markdown",
   "metadata": {
    "application/vnd.databricks.v1+cell": {
     "cellMetadata": {},
     "inputWidgets": {},
     "nuid": "d3d8d967-f8e5-486c-b73b-6ab9a110fc65",
     "showTitle": false,
     "tableResultSettingsMap": {},
     "title": ""
    }
   },
   "source": [
    "####Setting up the external volume"
   ]
  },
  {
   "cell_type": "code",
   "execution_count": 0,
   "metadata": {
    "application/vnd.databricks.v1+cell": {
     "cellMetadata": {
      "byteLimit": 2048000,
      "rowLimit": 10000
     },
     "inputWidgets": {},
     "nuid": "a706ae93-a1fa-4c21-9bdf-c077f80ad714",
     "showTitle": false,
     "tableResultSettingsMap": {},
     "title": ""
    }
   },
   "outputs": [],
   "source": [
    "#This volume points to the Azure Data Lake container.\n",
    "\n",
    "volumepath = f\"{rootPath}/volume/\"\n",
    "\n",
    "sql_ext_volume_creation_query = f\"\"\"\n",
    "CREATE EXTERNAL VOLUME IF NOT EXISTS coil_manufacturing_catalog.manufacturing.manufacturing_ext_volume\n",
    "    LOCATION '{volumepath}'\n",
    "    COMMENT 'This is an external volume that points to the external data file that is to be ingested.'\n",
    "\"\"\"\n",
    "\n",
    "spark.sql(sql_ext_volume_creation_query)"
   ]
  },
  {
   "cell_type": "code",
   "execution_count": 0,
   "metadata": {
    "application/vnd.databricks.v1+cell": {
     "cellMetadata": {},
     "inputWidgets": {},
     "nuid": "99a76525-8ba7-4d96-acbd-e1917c9667a8",
     "showTitle": false,
     "tableResultSettingsMap": {},
     "title": ""
    }
   },
   "outputs": [],
   "source": []
  }
 ],
 "metadata": {
  "application/vnd.databricks.v1+notebook": {
   "computePreferences": null,
   "dashboards": [],
   "environmentMetadata": {
    "base_environment": "",
    "client": "1"
   },
   "language": "python",
   "notebookMetadata": {
    "mostRecentlyExecutedCommandWithImplicitDF": {
     "commandId": 4821823121432593,
     "dataframes": [
      "_sqldf"
     ]
    },
    "pythonIndentUnit": 4
   },
   "notebookName": "config",
   "widgets": {}
  },
  "language_info": {
   "name": "python"
  }
 },
 "nbformat": 4,
 "nbformat_minor": 0
}
