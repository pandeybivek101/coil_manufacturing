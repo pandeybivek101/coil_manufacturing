{
 "cells": [
  {
   "cell_type": "markdown",
   "metadata": {
    "application/vnd.databricks.v1+cell": {
     "cellMetadata": {
      "byteLimit": 2048000,
      "rowLimit": 10000
     },
     "inputWidgets": {},
     "nuid": "ce24e3ff-6d0e-4472-8841-96020e934dc0",
     "showTitle": false,
     "tableResultSettingsMap": {},
     "title": ""
    }
   },
   "source": [
    "###Performing the test operations."
   ]
  },
  {
   "cell_type": "code",
   "execution_count": 0,
   "metadata": {
    "application/vnd.databricks.v1+cell": {
     "cellMetadata": {
      "byteLimit": 2048000,
      "rowLimit": 10000
     },
     "inputWidgets": {},
     "nuid": "3568161f-fab8-4399-bf6a-c02f2b09d148",
     "showTitle": false,
     "tableResultSettingsMap": {},
     "title": ""
    }
   },
   "outputs": [],
   "source": [
    "import doctest"
   ]
  },
  {
   "cell_type": "markdown",
   "metadata": {
    "application/vnd.databricks.v1+cell": {
     "cellMetadata": {},
     "inputWidgets": {},
     "nuid": "60fba7c4-ba08-497c-aa59-6db3ab46a5ec",
     "showTitle": false,
     "tableResultSettingsMap": {},
     "title": ""
    }
   },
   "source": [
    "######Testing whether the desired tables within each layer (gold, silver, bronze) are created or not."
   ]
  },
  {
   "cell_type": "code",
   "execution_count": 0,
   "metadata": {
    "application/vnd.databricks.v1+cell": {
     "cellMetadata": {
      "byteLimit": 2048000,
      "rowLimit": 10000
     },
     "inputWidgets": {},
     "nuid": "0d4a6ccd-7f57-45d4-8bac-7d0f1a5f09b2",
     "showTitle": false,
     "tableResultSettingsMap": {},
     "title": ""
    }
   },
   "outputs": [],
   "source": [
    "def f_test_table_existence(catalog_name: str, schema_name: str, table_name: str)->str:\n",
    "    \"\"\"\n",
    "    The function checks if the table exists in the given schema.\n",
    "\n",
    "    Args:\n",
    "        catalog_name: The name of the catalog.\n",
    "        schema_name: The name of the schema.\n",
    "        table_name: The name of the table.\n",
    "\n",
    "    Returns:\n",
    "        The table name if the table exists, otherwise None\n",
    "\n",
    "    >>> f_test_table_existence(\"coil_manufacturing_catalog\", \"manufacturing\", \"coil_raw\")\n",
    "    'coil_raw'\n",
    "\n",
    "    >>> f_test_table_existence(\"coil_manufacturing_catalog\", \"manufacturing\", \"coil_curated\")\n",
    "    'coil_curated'\n",
    "\n",
    "    >>> f_test_table_existence(\"coil_manufacturing_catalog\", \"manufacturing\", \"coil_summary\")\n",
    "    'coil_summary'\n",
    "    \"\"\"\n",
    "\n",
    "    table_checking_sql = f\"\"\"\n",
    "    SELECT \n",
    "        table_name\n",
    "    FROM \n",
    "        {catalog_name}.information_schema.tables\n",
    "    WHERE\n",
    "        table_schema = '{schema_name}' AND table_name = '{table_name}'\n",
    "    \"\"\"\n",
    "    \n",
    "    df = spark.sql(table_checking_sql)\n",
    "    return df.collect()[0][0]"
   ]
  },
  {
   "cell_type": "markdown",
   "metadata": {
    "application/vnd.databricks.v1+cell": {
     "cellMetadata": {},
     "inputWidgets": {},
     "nuid": "a08d0957-e870-4113-aceb-f7617d2d9dc9",
     "showTitle": false,
     "tableResultSettingsMap": {},
     "title": ""
    }
   },
   "source": [
    "######Verifying that the columns of coil_summary have the required data types."
   ]
  },
  {
   "cell_type": "code",
   "execution_count": 0,
   "metadata": {
    "application/vnd.databricks.v1+cell": {
     "cellMetadata": {
      "byteLimit": 2048000,
      "rowLimit": 10000
     },
     "inputWidgets": {},
     "nuid": "822d7122-fb19-4980-917e-c80672aaa288",
     "showTitle": false,
     "tableResultSettingsMap": {},
     "title": ""
    }
   },
   "outputs": [],
   "source": [
    "import json\n",
    "\n",
    "def f_test_table_schema(full_table_name: str)->json:\n",
    "    \"\"\"\n",
    "    The functions check if the table columns have specified schema and data types.\n",
    "\n",
    "    Args:\n",
    "        full_table_name: The full name of the table using unity catalog format, eg. 'catalog.schema.table'\n",
    "\n",
    "    Returns:\n",
    "        A JSON containing column name and data type as a key, value pair.\n",
    "\n",
    "    >>> f_test_table_schema(\"coil_manufacturing_catalog.manufacturing.coil_summary\")\n",
    "    {'material_type': 'string', 'production_date': 'date', 'total_coils': 'int', 'avg_weight': 'float', 'avg_thickness': 'float', 'max_line_speed': 'float', 'total_defects': 'int', 'defect_rate': 'float'}\n",
    "    \"\"\"\n",
    "\n",
    "    df = spark.table(full_table_name)\n",
    "    schema_json = {field.name: field.dataType.simpleString() for field in df.schema.fields}\n",
    "    return schema_json"
   ]
  },
  {
   "cell_type": "code",
   "execution_count": 0,
   "metadata": {
    "application/vnd.databricks.v1+cell": {
     "cellMetadata": {
      "byteLimit": 2048000,
      "rowLimit": 10000
     },
     "inputWidgets": {},
     "nuid": "bd0a9289-e98e-4967-9eae-2da81746c8ee",
     "showTitle": false,
     "tableResultSettingsMap": {},
     "title": ""
    }
   },
   "outputs": [],
   "source": [
    "doctest.run_docstring_examples(f_test_table_existence, globals(), verbose=True)"
   ]
  },
  {
   "cell_type": "code",
   "execution_count": 0,
   "metadata": {
    "application/vnd.databricks.v1+cell": {
     "cellMetadata": {
      "byteLimit": 2048000,
      "rowLimit": 10000
     },
     "inputWidgets": {},
     "nuid": "b73be2e5-ffdd-4a85-9b2f-ad71b644f1ef",
     "showTitle": false,
     "tableResultSettingsMap": {},
     "title": ""
    }
   },
   "outputs": [],
   "source": [
    "doctest.run_docstring_examples(f_test_table_schema, globals(), verbose=True)"
   ]
  },
  {
   "cell_type": "code",
   "execution_count": 0,
   "metadata": {
    "application/vnd.databricks.v1+cell": {
     "cellMetadata": {},
     "inputWidgets": {},
     "nuid": "d6252e10-4290-4859-8f27-76a287071f53",
     "showTitle": false,
     "tableResultSettingsMap": {},
     "title": ""
    }
   },
   "outputs": [],
   "source": []
  }
 ],
 "metadata": {
  "application/vnd.databricks.v1+notebook": {
   "computePreferences": null,
   "dashboards": [],
   "environmentMetadata": {
    "base_environment": "",
    "client": "1"
   },
   "language": "python",
   "notebookMetadata": {
    "pythonIndentUnit": 4
   },
   "notebookName": "test",
   "widgets": {}
  },
  "language_info": {
   "name": "python"
  }
 },
 "nbformat": 4,
 "nbformat_minor": 0
}
